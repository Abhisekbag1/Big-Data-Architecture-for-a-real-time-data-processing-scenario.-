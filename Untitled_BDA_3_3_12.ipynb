{
  "nbformat": 4,
  "nbformat_minor": 0,
  "metadata": {
    "colab": {
      "provenance": []
    },
    "kernelspec": {
      "name": "python3",
      "display_name": "Python 3"
    },
    "language_info": {
      "name": "python"
    }
  },
  "cells": [
    {
      "cell_type": "code",
      "source": [
        "!pip install pyspark\n"
      ],
      "metadata": {
        "colab": {
          "base_uri": "https://localhost:8080/"
        },
        "id": "Pq-QnHaTq9Rn",
        "outputId": "375bed28-0615-45a4-e745-f83aea360db7"
      },
      "execution_count": null,
      "outputs": [
        {
          "output_type": "stream",
          "name": "stdout",
          "text": [
            "Requirement already satisfied: pyspark in /usr/local/lib/python3.11/dist-packages (3.5.5)\n",
            "Requirement already satisfied: py4j==0.10.9.7 in /usr/local/lib/python3.11/dist-packages (from pyspark) (0.10.9.7)\n"
          ]
        }
      ]
    },
    {
      "cell_type": "code",
      "source": [
        "from pyspark.sql import SparkSession\n",
        "from pyspark.sql.functions import col, avg\n",
        "import time\n",
        "import json\n"
      ],
      "metadata": {
        "id": "Yc77t9ZprExF"
      },
      "execution_count": null,
      "outputs": []
    },
    {
      "cell_type": "code",
      "source": [
        "spark = SparkSession.builder \\\n",
        "    .appName(\"RealTimeTemperatureMonitoring\") \\\n",
        "    .getOrCreate()\n"
      ],
      "metadata": {
        "id": "zQIdlDy-rIOG"
      },
      "execution_count": null,
      "outputs": []
    },
    {
      "cell_type": "code",
      "source": [
        "import random\n",
        "from datetime import datetime\n",
        "\n",
        "def generate_sensor_data():\n",
        "    sensors = [1, 2, 3]\n",
        "    while True:\n",
        "        sensor_id = random.choice(sensors)\n",
        "        temperature = random.randint(70, 100)\n",
        "        timestamp = datetime.now().strftime(\"%Y-%m-%d %H:%M:%S\")\n",
        "        data = {\"sensor_id\": sensor_id, \"timestamp\": timestamp, \"temperature\": temperature}\n",
        "        yield json.dumps(data)\n",
        "        time.sleep(1)  # Simulating real-time data every second\n"
      ],
      "metadata": {
        "id": "AbfKhinorOYy"
      },
      "execution_count": null,
      "outputs": []
    },
    {
      "cell_type": "code",
      "source": [
        "from pyspark.sql import Row\n",
        "\n",
        "data_list = []  # Buffer to store real-time data\n",
        "threshold = 90  # Alert threshold\n",
        "\n",
        "for _ in range(5):  # Simulate 5 real-time data points\n",
        "    sensor_data = next(generate_sensor_data())\n",
        "    sensor_dict = json.loads(sensor_data)\n",
        "\n",
        "    # Check for alerts\n",
        "    if sensor_dict[\"temperature\"] > threshold:\n",
        "        print(f\"ALERT: Sensor {sensor_dict['sensor_id']} exceeded threshold with temperature {sensor_dict['temperature']} at {sensor_dict['timestamp']}\")\n",
        "\n",
        "    # Store in buffer\n",
        "    data_list.append(Row(**sensor_dict))\n",
        "    time.sleep(1)  # Simulate real-time delay\n"
      ],
      "metadata": {
        "colab": {
          "base_uri": "https://localhost:8080/"
        },
        "id": "Q73khXtrrTzc",
        "outputId": "0b0c79fb-435a-4edb-9ee1-a384ff00b2ea"
      },
      "execution_count": null,
      "outputs": [
        {
          "output_type": "stream",
          "name": "stdout",
          "text": [
            "ALERT: Sensor 3 exceeded threshold with temperature 99 at 2025-03-29 16:13:08\n"
          ]
        }
      ]
    },
    {
      "cell_type": "code",
      "source": [
        "df = spark.createDataFrame(data_list)\n",
        "df.show()\n"
      ],
      "metadata": {
        "colab": {
          "base_uri": "https://localhost:8080/"
        },
        "id": "OW_HMozOrdYG",
        "outputId": "b95d31be-b130-4e9d-e1fd-8d4dc1848141"
      },
      "execution_count": null,
      "outputs": [
        {
          "output_type": "stream",
          "name": "stdout",
          "text": [
            "+---------+-------------------+-----------+\n",
            "|sensor_id|          timestamp|temperature|\n",
            "+---------+-------------------+-----------+\n",
            "|        1|2025-03-29 16:13:04|         90|\n",
            "|        2|2025-03-29 16:13:05|         71|\n",
            "|        2|2025-03-29 16:13:06|         75|\n",
            "|        2|2025-03-29 16:13:07|         88|\n",
            "|        3|2025-03-29 16:13:08|         99|\n",
            "+---------+-------------------+-----------+\n",
            "\n"
          ]
        }
      ]
    },
    {
      "cell_type": "code",
      "source": [
        "df.createOrReplaceTempView(\"sensor_data\")\n",
        "\n",
        "result = spark.sql(\"SELECT sensor_id, AVG(temperature) AS avg_temp FROM sensor_data GROUP BY sensor_id\")\n",
        "result.show()\n"
      ],
      "metadata": {
        "colab": {
          "base_uri": "https://localhost:8080/"
        },
        "id": "3G12CirwrkuY",
        "outputId": "43466d5f-35e2-48a7-c05f-b597a25c7870"
      },
      "execution_count": null,
      "outputs": [
        {
          "output_type": "stream",
          "name": "stdout",
          "text": [
            "+---------+--------+\n",
            "|sensor_id|avg_temp|\n",
            "+---------+--------+\n",
            "|        1|    90.0|\n",
            "|        2|    78.0|\n",
            "|        3|    99.0|\n",
            "+---------+--------+\n",
            "\n"
          ]
        }
      ]
    }
  ]
}